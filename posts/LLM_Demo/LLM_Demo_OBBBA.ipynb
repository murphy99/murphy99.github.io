{
 "cells": [
  {
   "cell_type": "markdown",
   "id": "5dbe92e6",
   "metadata": {},
   "source": [
    "---\n",
    "title: Dig into the One Big Beautiful (Bad) Bill Act\n",
    "date: \"2025-10-11\"\n",
    "image: llm_photo.png\n",
    "categories: [Python, OPENAI, LLMs, Jupyter, OBBBA]\n",
    "---\n",
    "\n",
    "\n"
   ]
  },
  {
   "cell_type": "markdown",
   "id": "57db8d46",
   "metadata": {},
   "source": [
    "\n",
    "This is a small customized LLM with actual text of the Act uploaded into the model. The Act was passed by both the House and Senate and has become law. The Democrats, who until now because they do not control the House or Senate have refused to vote to continue funding this act because of the problem with people currently enrolled in the ACA will have increased premiums.\n",
    "\n",
    "The source document is available here: One Big Beautiful Bill Act\n",
    "\n",
    "Since LLMs are notorious for generating inaccurate responses, it's a good idea to make sure you ask for the provision or section number when querying so it can be verified with the source document. Specififying \"output to list\" clarifies the output to a list, if needed.\n",
    "\n",
    "**Suggested Prompts:**\n",
    "\n",
    "How are Medicaid programs affected? List provision or section number for verification. Output list.  \n",
    "\n",
    "How are SNAP programs affected? List provision or section number for verification. Output list.  \n",
    "\n",
    "What are all the environmental reductions, rescinds, and rescissions? List provisions and section number for verification. Output to list. \n",
    "\n",
    "What are all the environmental increases, and or establishment appropriations (not rescissions)? List provisions and section number for verification. Output list.  \n",
    "\n",
    "What are all the welfare reductions, and rescissions. List provisions and section number for verification. Output list.  \n",
    "\n",
    "What are all the law enforcement reductions, and rescissions. List provisions and section number for verification. Output list.  \n",
    "\n",
    "What are all the law enforcement increases and or appropriations? List provisions and section number for verification. Output list.  \n",
    "\n",
    "What are all the welfare appropriations, and increases?. List   provisions and section number for verification. Output list.  \n",
    "\n",
    "What is the DOJ fund named ”BIDEN.” What is it used for? list by item. What provision is it under? How much is being appropriated for it?  \n",
    "\n",
    "How is FEMA being appropriated? List the provision or section number along with description for verification. Is FEMA still going to be used for disaster recovery?  "
   ]
  },
  {
   "cell_type": "code",
   "execution_count": 4,
   "id": "5f9e3c7a",
   "metadata": {},
   "outputs": [
    {
     "data": {
      "text/html": [
       "\n",
       "        <iframe\n",
       "            width=\"800\"\n",
       "            height=\"400\"\n",
       "            src=\"https://godata-obbba.hf.space\"\n",
       "            frameborder=\"0\"\n",
       "            allowfullscreen\n",
       "            \n",
       "        ></iframe>\n",
       "        "
      ],
      "text/plain": [
       "<IPython.lib.display.IFrame at 0x113acce30>"
      ]
     },
     "execution_count": null,
     "metadata": {},
     "output_type": "execute_result"
    }
   ],
   "source": [
    "#| echo: false\n",
    "from IPython.display import IFrame\n",
    "\n",
    "# Create an IFrame object\n",
    "# Parameters: url, width, height\n",
    "\n",
    "iframe = IFrame('https://godata-obbba.hf.space', width=800, height=400)\n",
    "# Display the iframe\n",
    "iframe"
   ]
  }
 ],
 "metadata": {
  "language_info": {
   "name": "python"
  }
 },
 "nbformat": 4,
 "nbformat_minor": 5
}
