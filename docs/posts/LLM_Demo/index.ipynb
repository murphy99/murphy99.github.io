{
 "cells": [
  {
   "cell_type": "markdown",
   "id": "5dbe92e6",
   "metadata": {},
   "source": [
    "## Customize LLMs using RAG \n",
    "\n",
    "A great use of LLMs is to help digest new bills, policies, and or court verdicts in an efficient matter. Journalists encounter embargos frequently and receive a lot to digest in a short period of time. \n",
    "\n",
    "The problem with pretrained LLMs is that they have an end date. So if a new policy or laws get passed, the retreival of new informaton may be uneven. By saving pdfs of the current analysis and the bill itself, we can get a pretty good idea of not just the summary, but also some of the surprising details. \n",
    "\n",
    "Below is a demonstration on how we can query the bill directly and some of the analysis included.\n",
    "\n",
    "My first query was: \"What is in the \"Big Beautiful Bill\"\n",
    "\n",
    "Response: \"The One Big Beautiful Bill Act includes significant changes to federal healthcare programs such as Medicaid/Children's Health Insurance Program (CHIP), Medicare, and the Affordable Care Act (ACA). It also addresses tax reforms and incentives, energy policy, defense and national security provisions, education funding, agricultural supports, transportation and infrastructure investments, as well as immigration and border security measures\".\n",
    "\n",
    "\n",
    "\n",
    "\n",
    " "
   ]
  },
  {
   "cell_type": "code",
   "execution_count": 10,
   "id": "f802c1af",
   "metadata": {},
   "outputs": [],
   "source": [
    "#Install in packages (pip) in terminal - if missing\n",
    "#!pip install python-dotenv\n",
    "from dotenv import load_dotenv\n",
    "#pip install duckdb\n",
    "import duckdb\n",
    "#pip install llama_index_core\n",
    "from llama_index.core import VectorStoreIndex, SimpleDirectoryReader\n",
    "import os #built in package\n",
    "#pip install openai\n",
    "import openai\n",
    "#pip install textwrap\n",
    "import textwrap \n",
    "#pip install llama_index.vector_stores.duckdb\n",
    "import llama_index.vector_stores.duckdb\n",
    "#pip install llama-index-embeddings-openai\n",
    "from llama_index.embeddings.openai import OpenAIEmbedding\n",
    "#pip install llama-index-embeddings-openai\n",
    "#import llama-index-embeddings-openai\n",
    "#pip install gradio\n",
    "import gradio as gr"
   ]
  },
  {
   "cell_type": "code",
   "execution_count": 11,
   "id": "17e25e99",
   "metadata": {},
   "outputs": [],
   "source": [
    "\n",
    "from llama_index.llms.openai import OpenAI\n",
    "\n",
    "\n"
   ]
  },
  {
   "cell_type": "code",
   "execution_count": 14,
   "id": "b3698a48",
   "metadata": {},
   "outputs": [
    {
     "name": "stdout",
     "output_type": "stream",
     "text": [
      "File doesn't exist - first run - it's all good\n"
     ]
    }
   ],
   "source": [
    "file_path = 'persist/my_vector_store.duckdb'\n",
    "\n",
    "# Check if file exists\n",
    "if os.path.exists(file_path):\n",
    "  #Delete the file\n",
    "  os.remove(file_path)\n",
    "  print(\"File deleted successfully\")\n",
    "else:\n",
    "  print(\"File doesn't exist - first run - it's all good\")"
   ]
  },
  {
   "cell_type": "code",
   "execution_count": 15,
   "id": "63a6ebe9",
   "metadata": {},
   "outputs": [],
   "source": [
    "from dotenv import load_dotenv\n",
    "#load_dotenv()\n",
    "# Point to the secrets/.env file\n",
    "load_dotenv(dotenv_path=\"secrets/.env\")\n",
    "\n",
    "api_key = os.getenv('OPENAI_API_KEY')\n",
    "\n",
    "from openai import OpenAI\n",
    "client = OpenAI(api_key=api_key)"
   ]
  },
  {
   "cell_type": "code",
   "execution_count": 17,
   "id": "ed50eaee",
   "metadata": {},
   "outputs": [],
   "source": [
    "from llama_index.core import VectorStoreIndex, SimpleDirectoryReader\n",
    "from llama_index.vector_stores.duckdb import DuckDBVectorStore\n",
    "from llama_index.core import StorageContext\n",
    "\n",
    "vector_store = DuckDBVectorStore(\"my_vector_store.duckdb\", persist_dir=\"persist/\")\n",
    "documents = SimpleDirectoryReader(\"/Users/Eileen/Desktop/GoData/Blog/posts/LLM_Demo/BBB/\").load_data()"
   ]
  },
  {
   "cell_type": "code",
   "execution_count": 18,
   "id": "213f2c79",
   "metadata": {},
   "outputs": [],
   "source": [
    "storage_context = StorageContext.from_defaults(vector_store=vector_store)\n",
    "index = VectorStoreIndex.from_documents(documents, storage_context=storage_context)"
   ]
  },
  {
   "cell_type": "code",
   "execution_count": 19,
   "id": "227d5db7",
   "metadata": {},
   "outputs": [
    {
     "name": "stdout",
     "output_type": "stream",
     "text": [
      "* Running on local URL:  http://127.0.0.1:7861\n",
      "* To create a public link, set `share=True` in `launch()`.\n"
     ]
    },
    {
     "data": {
      "text/html": [
       "<div><iframe src=\"http://127.0.0.1:7861/\" width=\"100%\" height=\"500\" allow=\"autoplay; camera; microphone; clipboard-read; clipboard-write;\" frameborder=\"0\" allowfullscreen></iframe></div>"
      ],
      "text/plain": [
       "<IPython.core.display.HTML object>"
      ]
     },
     "metadata": {},
     "output_type": "display_data"
    },
    {
     "data": {
      "text/plain": []
     },
     "execution_count": null,
     "metadata": {},
     "output_type": "execute_result"
    }
   ],
   "source": [
    "import gradio as gr\n",
    "\n",
    "# Create a custom theme with blue as the primary color\n",
    "#theme = gr.themes.Default()  \n",
    "#theme = gr.themes.Default(primary_hue=\"blue\", font=[\"Helvetica\", \"sans-serif\"])\n",
    "\n",
    "def greet(query):\n",
    "    #print(\"Before query\")  # Debugging\n",
    "    query_engine = index.as_query_engine()\n",
    "    response = query_engine.query(query)\n",
    "    #print(\"After query\")   # Debugging\n",
    "    return str(response)\n",
    "\n",
    "gr.Interface(\n",
    "  fn=greet,\n",
    "  inputs=gr.Textbox(lines=1, placeholder=\"Enter your query here...\",\n",
    "  label=\"Your Query\"),\n",
    "  outputs=gr.Textbox(label=\"Response\")\n",
    "  ).launch(share=False)"
   ]
  }
 ],
 "metadata": {
  "language_info": {
   "name": "python"
  }
 },
 "nbformat": 4,
 "nbformat_minor": 5
}
