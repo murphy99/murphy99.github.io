{
  "cells": [
    {
      "cell_type": "markdown",
      "metadata": {},
      "source": [
        "---\n",
        "title: \"test\"\n",
        "format: html\n",
        "jupyter: python3\n",
        "filters:\n",
        "  - gradio\n",
        "---"
      ],
      "id": "9b2b2b4d"
    },
    {
      "cell_type": "code",
      "metadata": {},
      "source": [
        "import gradio as gr\n",
        "\n",
        "def greet(name):\n",
        "    return f\"Hello {name}!\"\n",
        "\n",
        "\n",
        "demo = gr.Interface(\n",
        "    fn=greet,\n",
        "    inputs=\"textbox\",\n",
        "    outputs=\"textbox\",\n",
        "    live=True\n",
        ")\n",
        "\n",
        "demo.launch()\n"
      ],
      "id": "b4af9f89",
      "execution_count": null,
      "outputs": []
    },
    {
      "cell_type": "code",
      "metadata": {},
      "source": [
        "import gradio as gr\n",
        "def greet(query):\n",
        "    \n",
        "    query_engine = index.as_query_engine()\n",
        "    response = query_engine.query(query)\n",
        "    strresponse = str(response)\n",
        "    return(f\"{response}\")\n",
        "    \n",
        "# Uncomment the lines below to run locally\n",
        "\n",
        "demo2=gr.Interface(fn=greet, \n",
        "inputs=\"text\", \n",
        "outputs=\"text\", \n",
        "live=True)\n",
        "\n",
        "demo2.launch()\n",
        "\n",
        "#demo = gr.Interface(fn=greet, inputs=\"text\", outputs=\"text\")\n",
        "#demo.launch(share=True)   "
      ],
      "id": "27664917",
      "execution_count": null,
      "outputs": []
    },
    {
      "cell_type": "markdown",
      "metadata": {},
      "source": [
        "The `echo: false` option disables the printing of code (only output is displayed)."
      ],
      "id": "7791bd4b"
    }
  ],
  "metadata": {
    "kernelspec": {
      "display_name": "Python 3",
      "language": "python",
      "name": "python3"
    }
  },
  "nbformat": 4,
  "nbformat_minor": 5
}